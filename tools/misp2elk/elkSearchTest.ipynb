{
 "cells": [
  {
   "cell_type": "markdown",
   "metadata": {},
   "source": [
    "#### elk init"
   ]
  },
  {
   "cell_type": "code",
   "execution_count": null,
   "metadata": {},
   "outputs": [],
   "source": [
    "import requests, json\n",
    "\n",
    "elkUrlLocal = 'http://127.0.0.1:9200/'\n",
    "esIndexName = 'misptest'\n",
    "esClusterName = 'attributes'\n",
    "\n",
    "items = [elkUrlLocal, esIndexName, esClusterName]\n",
    "# items.append(\"_search\")\n",
    "url = \"/\".join(\n",
    "    [(u.strip(\"/\") if index + 1 < len(items) else u.lstrip(\"/\"))\n",
    "     for index, u in enumerate(items)]\n",
    ")\n",
    "print(url)"
   ]
  },
  {
   "cell_type": "markdown",
   "metadata": {},
   "source": [
    "#### post search"
   ]
  },
  {
   "cell_type": "code",
   "execution_count": null,
   "metadata": {
    "scrolled": true
   },
   "outputs": [],
   "source": [
    "data = {\n",
    "    \"query\": {\n",
    "        \"multi_match\" : {\n",
    "            \"query\" : 169611\n",
    "            \"fields\": [\"id\"]\n",
    "        }\n",
    "    },\n",
    "    #\"_source\": [\"id\", \"uuid\"]\n",
    "}\n",
    "# data = {\"query\":{\"terms\":{\"id\":[87672]}}}\n",
    "# data = {\"query\":{\"terms\":{\"id\":[169620]}}}\n",
    "r = requests.post(url+\"/_search\", json=data)\n",
    "print(json.dumps(r.json(), indent=4))"
   ]
  },
  {
   "cell_type": "code",
   "execution_count": null,
   "metadata": {},
   "outputs": [],
   "source": [
    "#### Get attr "
   ]
  },
  {
   "cell_type": "code",
   "execution_count": null,
   "metadata": {
    "scrolled": true
   },
   "outputs": [],
   "source": [
    "# requests.get(url+\"/56795531-3e04-4c40-9b1b-4993950d210f\").json()\n",
    "# requests.get(url+\"/abddeb48-97d6-4a50-855e-402266dbc031\").json()\n",
    "requests.get(url+\"/abddeb48-97d6-4a50-855e-402266dbc031\").json()"
   ]
  }
 ],
 "metadata": {
  "kernelspec": {
   "display_name": "Python 3",
   "language": "python",
   "name": "python3"
  },
  "language_info": {
   "codemirror_mode": {
    "name": "ipython",
    "version": 3
   },
   "file_extension": ".py",
   "mimetype": "text/x-python",
   "name": "python",
   "nbconvert_exporter": "python",
   "pygments_lexer": "ipython3",
   "version": "3.5.3"
  }
 },
 "nbformat": 4,
 "nbformat_minor": 2
}
